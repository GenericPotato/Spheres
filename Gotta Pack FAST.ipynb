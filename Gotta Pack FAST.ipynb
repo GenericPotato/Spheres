{
 "cells": [
  {
   "cell_type": "markdown",
   "metadata": {},
   "source": [
    "# Circle Packing on surfaces"
   ]
  },
  {
   "cell_type": "markdown",
   "metadata": {},
   "source": [
    "Hey friends! This is a quick introduction to circle packing. The problem of circle packing in words is to find the largest radius r such that N circles if radius b fill a square (or any other surface) without any overlap. Mathematically, the parameters we can vary are b and N. Here we aim to find r for some fixed N i.e. b=b(N). TO formulate this problem, we assume we have a list of N positions given by $\\{r_{i}\\}$ such that $|r_i-r_j|\\geq 2b$. Once we know b, the calculation of packing density is a trivial exercise."
   ]
  },
  {
   "cell_type": "markdown",
   "metadata": {},
   "source": [
    "We first solve this for the simplest case in a unit square: N=1. Clearly $2b=1$ and $b=0.5\\implies \\rho=\\pi(0.5^2)/1=\\pi/4$. The packing density is slightly above 75%. "
   ]
  },
  {
   "cell_type": "markdown",
   "metadata": {},
   "source": [
    "There have been many proposed algorithms for many situations. For instance if our surface was the surface of a sphere instead of a square, the problem can be reduced to an electrostatic problem. The argument goes as follows. Suppose we could arrange N points on the surface of a sphere such that the distance between any two of them is as large as possible. Then we could expand a circle over each point until the circles touched and our packing problem would be solved. This can be done by releasing N electrons on the surface of a conducting sphere. As electrons repel and seek to maximise distance between each other, they would solve our problem for us. This method involves coding an electrostatic potential for N electrons and letting the simulation run till the electrons stop and expanding circles around each electron until the circles hit each other. This method is called the Thomson Problem which you could Google."
   ]
  },
  {
   "cell_type": "markdown",
   "metadata": {},
   "source": [
    "This brings me to my point: the problem illustrated above can be generalised. Even if we have circles of different sizes, etc we can try and find potentials that would solve our problem for us. Lets call this method the potential method."
   ]
  },
  {
   "cell_type": "markdown",
   "metadata": {},
   "source": [
    "Another set of methods use random 'shaking'. This is what we would do irl. Simply hold your square and 'shake'. The shaking can be achieved by rearranging the circles slightly by some specified algorithm. A variation of these methods is called the 'grow and slide' method. In this we set N points randomly on the surface and expand circles around each point. whenever the circles touch, we slide the circles past(shift the centres) such that they keep in touch but do not intersect. The KEY difference between these methods and the potential method is that the former finds GLOBAL solutions i.e. the best whereas the latter find LOCAL solutions which means we are not guaranteed that this is the best we can do. For the latter, we would have to run many runs to check if we have gotten the true packing maximum. "
   ]
  },
  {
   "cell_type": "markdown",
   "metadata": {},
   "source": [
    "We should also consider our surfaces. The easiest surface is a square but its also the most researched one. We could do n-gons and the circle as well. Or we could transcend Euclidean geometry and choose the surface to be a sphere, or a torus of some genus, a Klein bottle, etc. These will complicate the code but probably have interesting results."
   ]
  },
  {
   "cell_type": "markdown",
   "metadata": {},
   "source": [
    "As for applications, we have loads so no worries there."
   ]
  },
  {
   "cell_type": "markdown",
   "metadata": {},
   "source": [
    "\n",
    "# Presentation Points Pointers"
   ]
  },
  {
   "cell_type": "markdown",
   "metadata": {},
   "source": [
    "## Background Info:\n",
    "\n",
    "- Intro related to the Sci Am article shared 'why you should care about packing', talk about oranges??\n",
    "- Progression from general to specific: Geometric Packing->Packing involves the bodies to be packed and the space which holds these bodies-> Circle Packing on square-> Circle packing on sphere"
   ]
  },
  {
   "cell_type": "markdown",
   "metadata": {},
   "source": [
    "## Research Gap:\n",
    "- On circle Packing on spheres, research is focussed on theoretical/analytical and on numerical methods. Former is exact solution, latter is 'good enough'.\n",
    "- On theoretical side, the optimal solution is known for only very small numbers by utilizing symmetry arguments. However as N increases symmetry is no longer a useful tool. Known officially as symmetry breaking\n",
    "- On computational side, most used algo is the electrons on a sphere problem also known as Thomson problem or its generalisation the Tammes problem. This algo finds the global optimum i.e. the best solution. For large N, search space becomes exponentially large making computation intractable so good only for small N.\n",
    "- For Large N, the way to go FOR A SQUARE is by using local algorithms mentioned in the paper i gave in whatsapp, notably: 'Machine Learning' type which punishes circles intersecting and rewards big circles in its cost function, 'Billiard Collision' type which involves colliding particles that get bigger with time, etc.\n",
    "- Since to the best of our knowledge, the collision method can work but has not been tested for a sphere (only square) we try for sphere and compare results. "
   ]
  },
  {
   "cell_type": "markdown",
   "metadata": {},
   "source": [
    "## Scope\n",
    "\n",
    "- Our input is no. of circles on the unit sphere, N. We aim to find the biggest radius R such that we can fit N circles of radius R on the surface of a sphere and there is no overlap.\n",
    "- Our specific interest is to check the performance of the billiard collision method and to compare its performance with the traditional Tammes method.\n",
    "- This comparison is done by comparing our value of R with the value obtained by them and seeing how much it deviates.\n",
    "- Aim: To test the performance of the Billiard Collision algorithm as applied to the problem of packing congruent circles on the unit sphere."
   ]
  },
  {
   "cell_type": "markdown",
   "metadata": {},
   "source": [
    "## Significance\n",
    "\n",
    "- Packing is used to solve code correcting problems i.e. trying to transmit information when there is risk of loss or erasure of info\n",
    "- Industrially because you want to pack stuff efficiently to save money\n",
    "- Medically certain forms of radiation therapy could benefit from packing knowledge"
   ]
  },
  {
   "cell_type": "markdown",
   "metadata": {},
   "source": [
    "# Coding a free boi on a sphere"
   ]
  },
  {
   "cell_type": "markdown",
   "metadata": {},
   "source": [
    "On a sphere, the line element is given by: $\\vec{dr}=dr\\hat{r}+rd\\theta\\hat{\\theta}+r\\sin{\\theta}d\\phi\\hat{\\phi}$. This means the line element length $ds$ satisfies $ds^2=dr^2+r^2d\\theta^2+r^2\\sin^2{\\theta}d\\phi^2$. For the case of a unit sphere of fixed radius, the line element length reduces to $ds=\\sqrt{d\\theta^2+\\sin^2{\\theta}d\\phi^2}$. We want to find the equivalent of the straight line on the sphere by minimising the integral: $\\int_A^B{ds}=\\int_{\\theta_A}^{\\theta_B}d\\theta\\sqrt{1+\\phi'^2\\sin^2\\theta}$ where $\\phi'=\\frac{d\\phi}{d\\theta}$. We do this by deploying the Euler-Lagrange equations which yields the equation: $\\frac{d}{d\\theta}(\\frac{\\partial}{\\partial\\phi'}\\sqrt{1+\\phi'^2\\sin^2\\theta})=0\\implies \\frac{\\phi'\\sin^2{\\theta}}{\\sqrt{1+\\phi'^2\\sin^2\\theta}}=$constant$={a}$. We solve for $\\phi'$: "
   ]
  },
  {
   "cell_type": "markdown",
   "metadata": {},
   "source": [
    "$\\phi'^2(\\sin^2\\theta-a^2)\\sin^2\\theta=a^2$"
   ]
  },
  {
   "cell_type": "markdown",
   "metadata": {},
   "source": [
    "Rearranging this we obtain: $\\phi'=\\frac{a}{\\sin\\theta\\sqrt{\\sin^2\\theta-a^2}}$"
   ]
  },
  {
   "cell_type": "markdown",
   "metadata": {},
   "source": [
    "Solving for $\\phi$ we have $\\phi=\\int\\frac{ad\\theta}{\\sin\\theta\\sqrt{\\sin^2\\theta-a^2}}$"
   ]
  },
  {
   "cell_type": "markdown",
   "metadata": {},
   "source": [
    "Use substitution formula $u=\\cot\\theta$ and because $\\sin^2\\theta=\\frac{1}{1+u^2}$, and $du=-\\frac{d\\theta}{\\sin^2\\theta}$"
   ]
  },
  {
   "cell_type": "markdown",
   "metadata": {},
   "source": [
    "So we have  $\\phi=\\int\\frac{ad\\theta}{\\sin\\theta\\sqrt{\\sin^2\\theta-a^2}}=\\int\\frac{ad\\theta}{\\sin^2\\theta\\sqrt{1-\\frac{a^2}{\\sin^2\\theta}}}=\\int\\frac{-adu}{\\sqrt{1-a^2(1+u^2)}}$"
   ]
  },
  {
   "cell_type": "markdown",
   "metadata": {},
   "source": [
    "We define $c=\\frac{1}{a}\\implies\\phi=\\int\\frac{-du}{\\sqrt{c^2-(1+u^2)}}$"
   ]
  },
  {
   "cell_type": "markdown",
   "metadata": {},
   "source": [
    "From definition of $a$ we see that this quantity is lesser than 1 $\\implies$ the quantity $c>1$. Thus we can do a final definition $b^2=c^2-1>0$. Using this our integral reduces to $\\phi=\\int\\frac{-du}{\\sqrt{b^2-u^2}}$. This is a well known integral and the solution is given by:"
   ]
  },
  {
   "cell_type": "markdown",
   "metadata": {},
   "source": [
    "$\\phi=\\phi_0+\\cos^{-1}(\\frac{u}{b})$"
   ]
  },
  {
   "cell_type": "markdown",
   "metadata": {},
   "source": [
    "Thus we have the equation for the geodesic/straight line on the unit sphere: $\\cot\\theta=b\\cos(\\phi-\\phi_0)$. The equation has two free parameters: $b>0$ and $\\phi_0$. We will show the geometric significance of these geodesic parameters. "
   ]
  },
  {
   "cell_type": "markdown",
   "metadata": {},
   "source": [
    "Imagine a plane cutting the sphere such that it passes through the origin or the centre of the sphere. The equation of such a plane is: $Ax+By=Cz$. Substituting unit sphere coordinates we obtain: $A\\sin\\theta\\sin\\phi+B\\sin\\theta\\cos\\phi=C\\cos\\theta\\implies A\\sin\\phi+B\\cos\\phi=C\\cot\\theta\\implies\\cot\\theta=b\\cos(\\phi-\\phi_0)$ where $b=\\frac{\\sqrt{A^2+B^2}}{C}$ and $\\phi_0=-\\cos^{-1}\\frac{B}{\\sqrt{A^2+B^2}}$"
   ]
  },
  {
   "cell_type": "markdown",
   "metadata": {},
   "source": [
    "Thus our geodesics are intersections of the unit sphere with planes containing the origin. These are just circles on the sphere with unit radii. We call these geodesics 'great circles'. So given two points $P(\\theta_P,\\phi_P)$ and $Q(\\theta_Q,\\phi_Q)$, we can calculate the angle between the two points along their great circle by the dot product of their cartesian coordinates. The angle is given by: $\\nu=\\cos^{-1}(\\sin\\theta_P\\sin\\phi_P\\sin\\theta_Q\\sin\\phi_Q+\\sin\\theta_P\\cos\\phi_P\\sin\\theta_Q\\cos\\phi_Q+\\cos\\theta_P\\cos\\theta_Q)$"
   ]
  },
  {
   "cell_type": "markdown",
   "metadata": {},
   "source": [
    "Thus $\\nu=\\cos^{-1}(\\sin\\theta_P\\sin\\theta_Q\\cos(\\phi_Q-\\phi_P)+\\cos\\theta_P\\cos\\theta_Q)$. And this is the distance between two points on a sphere."
   ]
  },
  {
   "cell_type": "markdown",
   "metadata": {},
   "source": [
    "How do we define circles on a sphere? We say a point is inside a circle centred at $\\vec{c}$ with radius $r$ if distance between the point and $\\vec{c}$ is lesser than the radius $r$. This definition transcends the Euclidean plane and applies equally to spherical geometry when we replace the Euclidean distance with the distance derived above. The max distance possible on the unit sphere is $\\pi$. "
   ]
  },
  {
   "cell_type": "markdown",
   "metadata": {},
   "source": [
    "## Plotting circles on sphere boi"
   ]
  },
  {
   "cell_type": "raw",
   "metadata": {},
   "source": [
    "We want to plot one circle on the sphere using Python. For this we need to install the spherical geometry library using pip install spherical-geometry. "
   ]
  },
  {
   "cell_type": "code",
   "execution_count": 3,
   "metadata": {},
   "outputs": [
    {
     "ename": "AttributeError",
     "evalue": "module 'spherical_geometry' has no attribute 'SphericalPolygon'",
     "output_type": "error",
     "traceback": [
      "\u001b[1;31m---------------------------------------------------------------------------\u001b[0m",
      "\u001b[1;31mAttributeError\u001b[0m                            Traceback (most recent call last)",
      "\u001b[1;32m<ipython-input-3-00c9be73b61f>\u001b[0m in \u001b[0;36m<module>\u001b[1;34m\u001b[0m\n\u001b[0;32m      1\u001b[0m \u001b[1;32mimport\u001b[0m \u001b[0mspherical_geometry\u001b[0m \u001b[1;32mas\u001b[0m \u001b[0msg\u001b[0m\u001b[1;33m\u001b[0m\u001b[1;33m\u001b[0m\u001b[0m\n\u001b[1;32m----> 2\u001b[1;33m \u001b[0mA\u001b[0m\u001b[1;33m=\u001b[0m\u001b[0msg\u001b[0m\u001b[1;33m.\u001b[0m\u001b[0mSphericalPolygon\u001b[0m\u001b[1;33m(\u001b[0m\u001b[1;33m[\u001b[0m\u001b[1;33m(\u001b[0m\u001b[1;36m1\u001b[0m\u001b[1;33m,\u001b[0m\u001b[1;36m0\u001b[0m\u001b[1;33m,\u001b[0m\u001b[1;36m0\u001b[0m\u001b[1;33m)\u001b[0m\u001b[1;33m,\u001b[0m\u001b[1;33m(\u001b[0m\u001b[1;36m0\u001b[0m\u001b[1;33m,\u001b[0m\u001b[1;36m1\u001b[0m\u001b[1;33m,\u001b[0m\u001b[1;36m0\u001b[0m\u001b[1;33m)\u001b[0m\u001b[1;33m]\u001b[0m\u001b[1;33m)\u001b[0m\u001b[1;33m\u001b[0m\u001b[1;33m\u001b[0m\u001b[0m\n\u001b[0m",
      "\u001b[1;31mAttributeError\u001b[0m: module 'spherical_geometry' has no attribute 'SphericalPolygon'"
     ]
    }
   ],
   "source": [
    "import spherical_geometry as sg\n",
    "A=sg.SphericalPolygon([(1,0,0),(0,1,0)])"
   ]
  },
  {
   "cell_type": "code",
   "execution_count": null,
   "metadata": {},
   "outputs": [],
   "source": []
  }
 ],
 "metadata": {
  "kernelspec": {
   "display_name": "Python 3",
   "language": "python",
   "name": "python3"
  },
  "language_info": {
   "codemirror_mode": {
    "name": "ipython",
    "version": 3
   },
   "file_extension": ".py",
   "mimetype": "text/x-python",
   "name": "python",
   "nbconvert_exporter": "python",
   "pygments_lexer": "ipython3",
   "version": "3.7.4"
  }
 },
 "nbformat": 4,
 "nbformat_minor": 2
}
